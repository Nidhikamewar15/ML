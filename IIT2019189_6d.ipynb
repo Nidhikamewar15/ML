{
  "nbformat": 4,
  "nbformat_minor": 0,
  "metadata": {
    "colab": {
      "name": "IIT2019189_6d.ipynb",
      "provenance": []
    },
    "kernelspec": {
      "name": "python3",
      "display_name": "Python 3"
    },
    "language_info": {
      "name": "python"
    }
  },
  "cells": [
    {
      "cell_type": "code",
      "metadata": {
        "id": "W7M9F1-z5ptY"
      },
      "source": [
        "# IIT2019189"
      ],
      "execution_count": null,
      "outputs": []
    },
    {
      "cell_type": "code",
      "metadata": {
        "id": "9BolzQGXHdo5"
      },
      "source": [
        "import numpy as np\n",
        "import pandas as pd\n",
        "import matplotlib.pyplot as plt\n",
        "import cv2"
      ],
      "execution_count": null,
      "outputs": []
    },
    {
      "cell_type": "code",
      "metadata": {
        "colab": {
          "base_uri": "https://localhost:8080/",
          "height": 203
        },
        "id": "Kh9vBXkBJh50",
        "outputId": "92e54b70-a8ba-4020-e9db-ead7bcf77ed9"
      },
      "source": [
        "dataset_url = \"https://raw.githubusercontent.com/Nidhikamewar15/ML/main/Housing%20Price%20data%20set.csv\"\n",
        "dataset = pd.read_csv(dataset_url)\n",
        "dataset.head() "
      ],
      "execution_count": 14,
      "outputs": [
        {
          "output_type": "execute_result",
          "data": {
            "text/html": [
              "<div>\n",
              "<style scoped>\n",
              "    .dataframe tbody tr th:only-of-type {\n",
              "        vertical-align: middle;\n",
              "    }\n",
              "\n",
              "    .dataframe tbody tr th {\n",
              "        vertical-align: top;\n",
              "    }\n",
              "\n",
              "    .dataframe thead th {\n",
              "        text-align: right;\n",
              "    }\n",
              "</style>\n",
              "<table border=\"1\" class=\"dataframe\">\n",
              "  <thead>\n",
              "    <tr style=\"text-align: right;\">\n",
              "      <th></th>\n",
              "      <th>Unnamed: 0</th>\n",
              "      <th>price</th>\n",
              "      <th>lotsize</th>\n",
              "      <th>bedrooms</th>\n",
              "      <th>bathrms</th>\n",
              "      <th>stories</th>\n",
              "      <th>driveway</th>\n",
              "      <th>recroom</th>\n",
              "      <th>fullbase</th>\n",
              "      <th>gashw</th>\n",
              "      <th>airco</th>\n",
              "      <th>garagepl</th>\n",
              "      <th>prefarea</th>\n",
              "    </tr>\n",
              "  </thead>\n",
              "  <tbody>\n",
              "    <tr>\n",
              "      <th>0</th>\n",
              "      <td>1</td>\n",
              "      <td>42000.0</td>\n",
              "      <td>5850</td>\n",
              "      <td>3</td>\n",
              "      <td>1</td>\n",
              "      <td>2</td>\n",
              "      <td>yes</td>\n",
              "      <td>no</td>\n",
              "      <td>yes</td>\n",
              "      <td>no</td>\n",
              "      <td>no</td>\n",
              "      <td>1</td>\n",
              "      <td>no</td>\n",
              "    </tr>\n",
              "    <tr>\n",
              "      <th>1</th>\n",
              "      <td>2</td>\n",
              "      <td>38500.0</td>\n",
              "      <td>4000</td>\n",
              "      <td>2</td>\n",
              "      <td>1</td>\n",
              "      <td>1</td>\n",
              "      <td>yes</td>\n",
              "      <td>no</td>\n",
              "      <td>no</td>\n",
              "      <td>no</td>\n",
              "      <td>no</td>\n",
              "      <td>0</td>\n",
              "      <td>no</td>\n",
              "    </tr>\n",
              "    <tr>\n",
              "      <th>2</th>\n",
              "      <td>3</td>\n",
              "      <td>49500.0</td>\n",
              "      <td>3060</td>\n",
              "      <td>3</td>\n",
              "      <td>1</td>\n",
              "      <td>1</td>\n",
              "      <td>yes</td>\n",
              "      <td>no</td>\n",
              "      <td>no</td>\n",
              "      <td>no</td>\n",
              "      <td>no</td>\n",
              "      <td>0</td>\n",
              "      <td>no</td>\n",
              "    </tr>\n",
              "    <tr>\n",
              "      <th>3</th>\n",
              "      <td>4</td>\n",
              "      <td>60500.0</td>\n",
              "      <td>6650</td>\n",
              "      <td>3</td>\n",
              "      <td>1</td>\n",
              "      <td>2</td>\n",
              "      <td>yes</td>\n",
              "      <td>yes</td>\n",
              "      <td>no</td>\n",
              "      <td>no</td>\n",
              "      <td>no</td>\n",
              "      <td>0</td>\n",
              "      <td>no</td>\n",
              "    </tr>\n",
              "    <tr>\n",
              "      <th>4</th>\n",
              "      <td>5</td>\n",
              "      <td>61000.0</td>\n",
              "      <td>6360</td>\n",
              "      <td>2</td>\n",
              "      <td>1</td>\n",
              "      <td>1</td>\n",
              "      <td>yes</td>\n",
              "      <td>no</td>\n",
              "      <td>no</td>\n",
              "      <td>no</td>\n",
              "      <td>no</td>\n",
              "      <td>0</td>\n",
              "      <td>no</td>\n",
              "    </tr>\n",
              "  </tbody>\n",
              "</table>\n",
              "</div>"
            ],
            "text/plain": [
              "   Unnamed: 0    price  lotsize  bedrooms  ...  gashw  airco garagepl prefarea\n",
              "0           1  42000.0     5850         3  ...     no     no        1       no\n",
              "1           2  38500.0     4000         2  ...     no     no        0       no\n",
              "2           3  49500.0     3060         3  ...     no     no        0       no\n",
              "3           4  60500.0     6650         3  ...     no     no        0       no\n",
              "4           5  61000.0     6360         2  ...     no     no        0       no\n",
              "\n",
              "[5 rows x 13 columns]"
            ]
          },
          "metadata": {},
          "execution_count": 14
        }
      ]
    },
    {
      "cell_type": "code",
      "metadata": {
        "id": "GcxOiiwnJ3C2"
      },
      "source": [
        "Area_of_floor = dataset['lotsize']\n",
        "Number_Of_Bedrooms = dataset['bedrooms']\n",
        "Number_Of_Bathrooms = dataset['bathrms']\n",
        "Price_of_House = dataset['price']\n",
        "Y_Matrix = dataset['price']\n",
        "Y_Matrix = np.array(Y_Matrix)\n",
        "Y_Matrix = Y_Matrix.reshape(Y_Matrix.shape[0], 1)"
      ],
      "execution_count": null,
      "outputs": []
    },
    {
      "cell_type": "markdown",
      "metadata": {
        "id": "U9miLxgRdM4h"
      },
      "source": [
        "##feature scaling"
      ]
    },
    {
      "cell_type": "code",
      "metadata": {
        "id": "iaN_kgxRKTvb"
      },
      "source": [
        "# Now here we are performing feature scanning on Area_of_floor\n",
        "\n",
        "Mean_of_floor_area = np.mean(Area_of_floor)\n",
        "Max_of_floor_area = max(Area_of_floor)\n",
        "Min_of_floor_area = min(Area_of_floor)\n",
        "Scaled_FloorArea = []\n",
        "for i in Area_of_floor:\n",
        "\tScaled_FloorArea.append((i - Mean_of_floor_area) / (Max_of_floor_area - Min_of_floor_area))\n"
      ],
      "execution_count": null,
      "outputs": []
    },
    {
      "cell_type": "markdown",
      "metadata": {
        "id": "pHz_3eLtdxs-"
      },
      "source": [
        "##Linear Weighted Regression "
      ]
    },
    {
      "cell_type": "code",
      "metadata": {
        "id": "Ca7fRqyXddIb"
      },
      "source": [
        "def calculate_error(Y_Matrix, Y_pred_set):\n",
        "    err = 0\n",
        "    for i in range(len(Y_Matrix)):\n",
        "        err += abs(Y_Matrix[i] - Y_pred_set[i]) / Y_Matrix[i]\n",
        "    err = err / len(Y_Matrix)\n",
        "    return err * 100\n",
        "\n",
        "def kernel(X_Matrix, xi, HyperParameterTau):\n",
        "    return np.exp(-np.sum((xi - X_Matrix) ** 2, axis = 1) / (2 * HyperParameterTau * HyperParameterTau))\n",
        "\n",
        "def LocallyWeightedLR(X_Matrix, xi, Y_Matrix, HyperParameterTau):\n",
        "\tTransposeMatrixX = np.transpose(X_Matrix)\n",
        "\tW = kernel(X_Matrix, xi, HyperParameterTau)\n",
        "\tMatrixXTransposeW = TransposeMatrixX * W\n",
        "\tMatrixXTransposeWX = np.matmul(MatrixXTransposeW, X_Matrix)\n",
        "\tInverseMatrixXTransposeWX = np.linalg.pinv(MatrixXTransposeWX)\n",
        "\tInverseMatrixXTransposeWXMatrixXTransposeW = np.matmul(InverseMatrixXTransposeWX, MatrixXTransposeW)\n",
        "\tInverseMatrixXTransposeWXMatrixXTransposeWY = np.matmul(InverseMatrixXTransposeWXMatrixXTransposeW, Y_Matrix)\n",
        "\tInverseMatrixXTransposeWXMatrixXTransposeWYTranspose = np.transpose(InverseMatrixXTransposeWXMatrixXTransposeWY)\n",
        "\treturn InverseMatrixXTransposeWXMatrixXTransposeWYTranspose.dot(xi)\n"
      ],
      "execution_count": null,
      "outputs": []
    },
    {
      "cell_type": "code",
      "metadata": {
        "colab": {
          "base_uri": "https://localhost:8080/"
        },
        "id": "s6F7ilzxddjs",
        "outputId": "a3320bf9-cfda-4278-fb9b-cc3028bf1d24"
      },
      "source": [
        "X_Matrix = []\n",
        "for i in range(len(Area_of_floor)):\n",
        "\tX_Matrix.append([1, Scaled_FloorArea[i], Number_Of_Bedrooms[i], Number_Of_Bathrooms[i]])\n",
        "X_Matrix = np.array(X_Matrix)\n",
        "\n",
        "Taus = [0.1, 0.01, 0.02, 0.001, 0.0001, 0.00001]\n",
        "for Tau in Taus:\n",
        "  print(\"Locally Weighted Linear Regression for Tau = \" + str(Tau))\n",
        "  pred = []\n",
        "  for i in range(X_Matrix.shape[0]):\n",
        "\t  y_pred_test = LocallyWeightedLR(X_Matrix, X_Matrix[i], Y_Matrix, Tau)\n",
        "\t  pred.append(y_pred_test)\n",
        "  print(\"Mean absolute % error is : \" + str(calculate_error(Y_Matrix,pred)))\n"
      ],
      "execution_count": null,
      "outputs": [
        {
          "output_type": "stream",
          "name": "stdout",
          "text": [
            "Locally Weighted Linear Regression for Tau = 0.1\n",
            "Mean absolute % error is : [20.14065581]\n",
            "Locally Weighted Linear Regression for Tau = 0.01\n",
            "Mean absolute % error is : [16.41583941]\n",
            "Locally Weighted Linear Regression for Tau = 0.02\n",
            "Mean absolute % error is : [18.12596846]\n",
            "Locally Weighted Linear Regression for Tau = 0.001\n",
            "Mean absolute % error is : [7.56066413]\n",
            "Locally Weighted Linear Regression for Tau = 0.0001\n",
            "Mean absolute % error is : [5.40856556]\n",
            "Locally Weighted Linear Regression for Tau = 1e-05\n",
            "Mean absolute % error is : [5.40730554]\n"
          ]
        }
      ]
    },
    {
      "cell_type": "markdown",
      "metadata": {
        "id": "npTfrOS8d9XL"
      },
      "source": [
        "##Batch gradient descent with regularization "
      ]
    },
    {
      "cell_type": "code",
      "metadata": {
        "id": "iOyxQTKTdmC_"
      },
      "source": [
        "FloorAreaTrain = Scaled_FloorArea[:383]\n",
        "NoOfBathroomsTrain = Number_Of_Bathrooms[:383]\n",
        "NoOfBedroomsTrain = Number_Of_Bedrooms[:383]\n",
        "PriceTrain = Price_of_House[:383]\n",
        "FloorAreaTest = Area_of_floor[383:]\n",
        "NoOfBathroomsTest = Number_Of_Bathrooms[383:]\n",
        "NoOfBedroomsTest = Number_Of_Bedrooms[383:]\n",
        "PriceTest = Price_of_House[383:]\n"
      ],
      "execution_count": null,
      "outputs": []
    },
    {
      "cell_type": "code",
      "metadata": {
        "id": "A42R3KY-eLy0"
      },
      "source": [
        "X_train_set = []\n",
        "for i in range(383):\n",
        "\tX_train_set.append([1, Scaled_FloorArea[i], Number_Of_Bedrooms[i], Number_Of_Bathrooms[i]])\n",
        " \n",
        "X_test_set = []\n",
        "n = len(FloorAreaTest)\n",
        "for i in range(383,383+n):\n",
        "  X_test_set.append([1,Scaled_FloorArea[i],Number_Of_Bedrooms[i],Number_Of_Bathrooms[i]])"
      ],
      "execution_count": null,
      "outputs": []
    },
    {
      "cell_type": "code",
      "metadata": {
        "colab": {
          "base_uri": "https://localhost:8080/"
        },
        "id": "3tvxIkCveWvv",
        "outputId": "a9ef905a-92ec-4f33-9ea3-f1ee344bc882"
      },
      "source": [
        "#learning rate is abbreviated as l_r\n",
        "l_r = 0.001  \n",
        "\n",
        "#lambda value is abbreviated as lamda\n",
        "lamda = -120 \n",
        "x = np.array(X_train_set)\n",
        "y = np.array(PriceTrain)\n",
        "w = np.array(([0],[0],[0],[0]))\n",
        "y = y.reshape(len(y),1)\n",
        "\n",
        "def prod_function(w,x):\n",
        "    res = 0\n",
        "    for i in range(w.shape[0]):\n",
        "        res = res + w[i][0]*x[i]\n",
        "    return res\n",
        "\n",
        "def grad_function(x,w,y):\n",
        "    res = np.zeros(w.shape[0])\n",
        "    for i in range(x.shape[0]):\n",
        "        res = (res+(prod_function(w,x[i])-y[i][0])*x[i])\n",
        "    res = res.reshape(w.shape[0],1)\n",
        "    return res\n",
        "\n",
        "m = x.shape[0]\n",
        "for i in range(5000):\n",
        "  flag = 1-((l_r*lamda)/m)\n",
        "  w = flag * w - l_r*grad_function(x,w,y)/m\n",
        "\n",
        "print(\"Coff's are : \",w)\n",
        "\n",
        "\n",
        "# Steps to find mean absolute % error\n",
        "x_test_set = np.array(X_test_set)\n",
        "y_test_set = np.array(PriceTest)\n",
        "y_pred_set = np.dot(x_test_set,w)\n",
        "\n",
        "n = x_test_set.shape[0]\n",
        "m = 0\n",
        "\n",
        "for i in range(n):\n",
        "  m = m + abs(y_pred_set[i][0] - y_test_set[i])/y_test_set[i]\n",
        "m = m * 100/n\n",
        "print(\"Mean absolute % error is \",m)\n"
      ],
      "execution_count": null,
      "outputs": [
        {
          "output_type": "stream",
          "name": "stdout",
          "text": [
            "Coff's are :  [[11027.93238871]\n",
            " [19272.80715199]\n",
            " [ 5262.5362372 ]\n",
            " [31018.09747139]]\n",
            "Mean absolute % error is  18.84547313581711\n"
          ]
        }
      ]
    },
    {
      "cell_type": "markdown",
      "metadata": {
        "id": "73-1plFfehAf"
      },
      "source": [
        "##stochastic gradient descent with regulariation"
      ]
    },
    {
      "cell_type": "code",
      "metadata": {
        "id": "eqay9tOueY6q"
      },
      "source": [
        "X_train_set = []\n",
        "for i in range(383):\n",
        "\tX_train_set.append([1, Scaled_FloorArea[i], Number_Of_Bedrooms[i], Number_Of_Bathrooms[i]])\n",
        " \n",
        "X_test_set = []\n",
        "n = len(FloorAreaTest)\n",
        "for i in range(383,383+n):\n",
        "  X_test_set.append([1,Scaled_FloorArea[i],Number_Of_Bedrooms[i],Number_Of_Bathrooms[i]])"
      ],
      "execution_count": null,
      "outputs": []
    },
    {
      "cell_type": "code",
      "metadata": {
        "colab": {
          "base_uri": "https://localhost:8080/"
        },
        "id": "u4y3wNSkekOf",
        "outputId": "b33428de-8780-424a-a41f-05acca0abe58"
      },
      "source": [
        "# learning rate is abbreviated as l_r\n",
        "l_r = 0.0005\n",
        "\n",
        "#lambda as lamda\n",
        "lamda = -10\n",
        "\n",
        "x = np.array(X_train_set)\n",
        "y = np.array(PriceTrain)\n",
        "w = np.array([0,0,0,0])\n",
        "y = y.reshape(len(y),1)\n",
        "\n",
        "print(\"Initial coeff's are as follows : \",w)\n",
        "\n",
        "def prod_function(w,x):\n",
        "    res = 0\n",
        "    for i in range(x.shape[0]):\n",
        "        res = res + w[i]*x[i]\n",
        "    return res\n",
        "\n",
        "\n",
        "for itr in range(20):\n",
        "  for i in range(x.shape[0]):\n",
        "    grad = (prod_function(w,x[i]) - y[i][0])*x[i]\n",
        "    flag = 1-((lamda * l_r) / x.shape[0])\n",
        "    w = flag*w - l_r * grad\n",
        "\n",
        "print(\"Coeff's are as follows :\",w)\n",
        "\n",
        "\n",
        "# Mean absolute % error\n",
        "w = w.reshape((4,1))\n",
        "x_test_set = np.array(X_test_set)\n",
        "y_test_set = np.array(PriceTest)\n",
        "y_pred_set = np.dot(x_test_set,w)\n",
        "\n",
        "n = x_test_set.shape[0]\n",
        "m = 0\n",
        "\n",
        "for i in range(n):\n",
        "  m = m + abs(y_pred_set[i][0] - y_test_set[i])/y_test_set[i]\n",
        "m = m * 100/n\n",
        "print(\"Mean absolute % error\",m)"
      ],
      "execution_count": null,
      "outputs": [
        {
          "output_type": "stream",
          "name": "stdout",
          "text": [
            "Initial coeff's are as follows :  [0 0 0 0]\n",
            "Coeff's are as follows : [ 8099.53322869  6266.87283801 13353.66990034 17698.12315756]\n",
            "Mean absolute % error 18.655780791680915\n"
          ]
        }
      ]
    },
    {
      "cell_type": "markdown",
      "metadata": {
        "id": "1jfe8TBfeySJ"
      },
      "source": [
        "##Mini Batch Gradient Descent with Regulatization "
      ]
    },
    {
      "cell_type": "code",
      "metadata": {
        "id": "iSH5-V9senND"
      },
      "source": [
        "X_train_set = []\n",
        "for i in range(383):\n",
        "\tX_train_set.append([1, Scaled_FloorArea[i], Number_Of_Bedrooms[i], Number_Of_Bathrooms[i]])\n",
        " \n",
        "X_test_set = []\n",
        "n = len(FloorAreaTest)\n",
        "for i in range(383,383+n):\n",
        "  X_test_set.append([1,Scaled_FloorArea[i],Number_Of_Bedrooms[i],Number_Of_Bathrooms[i]])"
      ],
      "execution_count": null,
      "outputs": []
    },
    {
      "cell_type": "code",
      "metadata": {
        "colab": {
          "base_uri": "https://localhost:8080/"
        },
        "id": "u43z2IPUe5uy",
        "outputId": "4bff6945-35d7-4051-85d1-510926136327"
      },
      "source": [
        "b_s = 20 \n",
        "l_r = 0.002\n",
        "lamda = -20\n",
        "\n",
        "x = np.array(X_train_set)\n",
        "y = np.array(PriceTrain)\n",
        "w = np.array([0,0,0,0])\n",
        "y = y.reshape(len(y),1)\n",
        "\n",
        "def prod_function(w,x):\n",
        "    res = 0\n",
        "    for i in range(x.shape[0]):\n",
        "        res = res + w[i]*x[i]\n",
        "    return res\n",
        "\n",
        "def grad_function(x,w,y,st,b_s):\n",
        "    res = np.zeros(w.shape[0])\n",
        "    for i in range(st,st+b_s):\n",
        "        if(i>=x.shape[0]):\n",
        "          break\n",
        "        res=(res+(prod_function(w,x[i])-y[i][0])*x[i])\n",
        "    return res\n",
        "\n",
        "for itr in range(50):\n",
        "  for i in range(b_s):\n",
        "    flag = 1-((lamda*l_r)/b_s)\n",
        "    w = flag * w - (l_r*grad_function(x,w,y,b_s*i,b_s))/b_s\n",
        "print(\"Coeff's are as follows : \",w)\n",
        "\n",
        "\n",
        "\n",
        "# Mean absolute % error\n",
        "w = w.reshape((4,1))\n",
        "x_test_set = np.array(X_test_set)\n",
        "y_test_set = np.array(PriceTest)\n",
        "y_pred_set = np.dot(x_test_set,w)\n",
        "\n",
        "n = x_test_set.shape[0]\n",
        "m = 0\n",
        "\n",
        "for i in range(n):\n",
        "  m = m + abs(y_pred_set[i][0] - y_test_set[i]) / y_test_set[i]\n",
        "m = m * 100/n\n",
        "print(\"Mean absolute % error : \" , m)"
      ],
      "execution_count": null,
      "outputs": [
        {
          "output_type": "stream",
          "name": "stdout",
          "text": [
            "Coeff's are as follows :  [ 9280.88414526 10001.13873579 10055.23366084 25309.01693085]\n",
            "Mean absolute % error :  17.971898815464968\n"
          ]
        }
      ]
    }
  ]
}