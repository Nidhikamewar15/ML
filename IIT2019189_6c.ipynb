{
  "nbformat": 4,
  "nbformat_minor": 0,
  "metadata": {
    "colab": {
      "name": "IIT2019189_6c.ipynb",
      "provenance": [],
      "collapsed_sections": []
    },
    "kernelspec": {
      "name": "python3",
      "display_name": "Python 3"
    },
    "language_info": {
      "name": "python"
    }
  },
  "cells": [
    {
      "cell_type": "code",
      "metadata": {
        "id": "dZEePtBr2wCS"
      },
      "source": [
        "# IIT2019189"
      ],
      "execution_count": null,
      "outputs": []
    },
    {
      "cell_type": "code",
      "metadata": {
        "id": "a-1zBsKSwMqR"
      },
      "source": [
        "import numpy as np\n",
        "import pandas as pd\n",
        "import random\n",
        "import math"
      ],
      "execution_count": null,
      "outputs": []
    },
    {
      "cell_type": "code",
      "metadata": {
        "colab": {
          "base_uri": "https://localhost:8080/",
          "height": 203
        },
        "id": "PwdSpLTqxgY4",
        "outputId": "82d5e885-9652-4e8f-894a-73d754018576"
      },
      "source": [
        "dataset_url = \"https://raw.githubusercontent.com/Nidhikamewar15/ML/main/Housing%20Price%20data%20set.csv\"\n",
        "dataset = pd.read_csv(dataset_url)\n",
        "dataset.head()\n"
      ],
      "execution_count": null,
      "outputs": [
        {
          "output_type": "execute_result",
          "data": {
            "text/html": [
              "<div>\n",
              "<style scoped>\n",
              "    .dataframe tbody tr th:only-of-type {\n",
              "        vertical-align: middle;\n",
              "    }\n",
              "\n",
              "    .dataframe tbody tr th {\n",
              "        vertical-align: top;\n",
              "    }\n",
              "\n",
              "    .dataframe thead th {\n",
              "        text-align: right;\n",
              "    }\n",
              "</style>\n",
              "<table border=\"1\" class=\"dataframe\">\n",
              "  <thead>\n",
              "    <tr style=\"text-align: right;\">\n",
              "      <th></th>\n",
              "      <th>Unnamed: 0</th>\n",
              "      <th>price</th>\n",
              "      <th>lotsize</th>\n",
              "      <th>bedrooms</th>\n",
              "      <th>bathrms</th>\n",
              "      <th>stories</th>\n",
              "      <th>driveway</th>\n",
              "      <th>recroom</th>\n",
              "      <th>fullbase</th>\n",
              "      <th>gashw</th>\n",
              "      <th>airco</th>\n",
              "      <th>garagepl</th>\n",
              "      <th>prefarea</th>\n",
              "    </tr>\n",
              "  </thead>\n",
              "  <tbody>\n",
              "    <tr>\n",
              "      <th>0</th>\n",
              "      <td>1</td>\n",
              "      <td>42000.0</td>\n",
              "      <td>5850</td>\n",
              "      <td>3</td>\n",
              "      <td>1</td>\n",
              "      <td>2</td>\n",
              "      <td>yes</td>\n",
              "      <td>no</td>\n",
              "      <td>yes</td>\n",
              "      <td>no</td>\n",
              "      <td>no</td>\n",
              "      <td>1</td>\n",
              "      <td>no</td>\n",
              "    </tr>\n",
              "    <tr>\n",
              "      <th>1</th>\n",
              "      <td>2</td>\n",
              "      <td>38500.0</td>\n",
              "      <td>4000</td>\n",
              "      <td>2</td>\n",
              "      <td>1</td>\n",
              "      <td>1</td>\n",
              "      <td>yes</td>\n",
              "      <td>no</td>\n",
              "      <td>no</td>\n",
              "      <td>no</td>\n",
              "      <td>no</td>\n",
              "      <td>0</td>\n",
              "      <td>no</td>\n",
              "    </tr>\n",
              "    <tr>\n",
              "      <th>2</th>\n",
              "      <td>3</td>\n",
              "      <td>49500.0</td>\n",
              "      <td>3060</td>\n",
              "      <td>3</td>\n",
              "      <td>1</td>\n",
              "      <td>1</td>\n",
              "      <td>yes</td>\n",
              "      <td>no</td>\n",
              "      <td>no</td>\n",
              "      <td>no</td>\n",
              "      <td>no</td>\n",
              "      <td>0</td>\n",
              "      <td>no</td>\n",
              "    </tr>\n",
              "    <tr>\n",
              "      <th>3</th>\n",
              "      <td>4</td>\n",
              "      <td>60500.0</td>\n",
              "      <td>6650</td>\n",
              "      <td>3</td>\n",
              "      <td>1</td>\n",
              "      <td>2</td>\n",
              "      <td>yes</td>\n",
              "      <td>yes</td>\n",
              "      <td>no</td>\n",
              "      <td>no</td>\n",
              "      <td>no</td>\n",
              "      <td>0</td>\n",
              "      <td>no</td>\n",
              "    </tr>\n",
              "    <tr>\n",
              "      <th>4</th>\n",
              "      <td>5</td>\n",
              "      <td>61000.0</td>\n",
              "      <td>6360</td>\n",
              "      <td>2</td>\n",
              "      <td>1</td>\n",
              "      <td>1</td>\n",
              "      <td>yes</td>\n",
              "      <td>no</td>\n",
              "      <td>no</td>\n",
              "      <td>no</td>\n",
              "      <td>no</td>\n",
              "      <td>0</td>\n",
              "      <td>no</td>\n",
              "    </tr>\n",
              "  </tbody>\n",
              "</table>\n",
              "</div>"
            ],
            "text/plain": [
              "   Unnamed: 0    price  lotsize  bedrooms  ...  gashw  airco garagepl prefarea\n",
              "0           1  42000.0     5850         3  ...     no     no        1       no\n",
              "1           2  38500.0     4000         2  ...     no     no        0       no\n",
              "2           3  49500.0     3060         3  ...     no     no        0       no\n",
              "3           4  60500.0     6650         3  ...     no     no        0       no\n",
              "4           5  61000.0     6360         2  ...     no     no        0       no\n",
              "\n",
              "[5 rows x 13 columns]"
            ]
          },
          "metadata": {},
          "execution_count": 32
        }
      ]
    },
    {
      "cell_type": "code",
      "metadata": {
        "id": "iNsaimUjxmtx"
      },
      "source": [
        "# We will use feature scaling because lotsize is not scaled in a correct way\n",
        "\n",
        "Price_of_House = dataset['price']\n",
        "Area_of_floor = dataset['lotsize']\n",
        "Number_Of_Bedrooms = dataset['bedrooms']\n",
        "Number_Of_Bathrooms = dataset['bathrms']\n"
      ],
      "execution_count": null,
      "outputs": []
    },
    {
      "cell_type": "markdown",
      "metadata": {
        "id": "sLMEEQ4lx44m"
      },
      "source": [
        "##feature scaling"
      ]
    },
    {
      "cell_type": "code",
      "metadata": {
        "id": "JAqhbhbkxnu4"
      },
      "source": [
        "Mean_of_floor_area = np.mean(Area_of_floor)\n",
        "Max_of_floor_area = max(Area_of_floor)\n",
        "Min_of_floor_area = min(Area_of_floor)\n",
        "Scaled_FloorArea = []\n",
        "for i in Area_of_floor:\n",
        "\tScaled_FloorArea.append((i - Mean_of_floor_area) / (Max_of_floor_area - Min_of_floor_area))\n"
      ],
      "execution_count": null,
      "outputs": []
    },
    {
      "cell_type": "markdown",
      "metadata": {
        "id": "whn-nD6zyKFV"
      },
      "source": [
        "##setting up training and test data"
      ]
    },
    {
      "cell_type": "code",
      "metadata": {
        "id": "QHVDNTiiyB9l"
      },
      "source": [
        "FloorAreaTrain = Scaled_FloorArea[:383]\n",
        "NoOfBathroomsTrain = Number_Of_Bathrooms[:383]\n",
        "NoOfBedroomsTrain = Number_Of_Bedrooms[:383]\n",
        "PriceTrain = Price_of_House[:383]\n",
        "FloorAreaTest = Area_of_floor[383:]\n",
        "NoOfBathroomsTest = Number_Of_Bathrooms[383:]\n",
        "NoOfBedroomsTest = Number_Of_Bedrooms[383:]\n",
        "PriceTest = Price_of_House[383:]\n"
      ],
      "execution_count": null,
      "outputs": []
    },
    {
      "cell_type": "markdown",
      "metadata": {
        "id": "-_s1EYwqyXAU"
      },
      "source": [
        "##batch gradient descent without regularization "
      ]
    },
    {
      "cell_type": "code",
      "metadata": {
        "id": "aks3u0wTyPch"
      },
      "source": [
        "X_train_set = []\n",
        "#XTrain = []\n",
        "for i in range(383):\n",
        "\tX_train_set.append([1, Scaled_FloorArea[i], Number_Of_Bedrooms[i], Number_Of_Bathrooms[i]])\n",
        " \n",
        "X_test_set = []\n",
        "n = len(FloorAreaTest)\n",
        "for i in range(383,383+n):\n",
        "  X_test_set.append([1,Scaled_FloorArea[i],Number_Of_Bedrooms[i],Number_Of_Bathrooms[i]])"
      ],
      "execution_count": null,
      "outputs": []
    },
    {
      "cell_type": "code",
      "metadata": {
        "colab": {
          "base_uri": "https://localhost:8080/"
        },
        "id": "_F3ACEH8ykN8",
        "outputId": "993e5e41-4ef5-43c4-ce49-8089ed112e25"
      },
      "source": [
        "x = np.array(X_train_set)\n",
        "y = np.array(PriceTrain)\n",
        "w = np.array(([0],[0],[0],[0]))\n",
        "y = y.reshape(len(y),1)\n",
        "\n",
        "def prod_function(w,x):\n",
        "    res=0\n",
        "    for i in range(w.shape[0]):\n",
        "        res = res + w[i][0]*x[i]\n",
        "    return res\n",
        "\n",
        "def grad_function(x,w,y):\n",
        "    res = np.zeros(w.shape[0])\n",
        "    for i in range(x.shape[0]):\n",
        "        res = (res + (prod_function(w,x[i])-y[i][0])*x[i])\n",
        "    res = res.reshape(w.shape[0],1)\n",
        "    return res\n",
        "\n",
        "l_r=0.001\n",
        "for i in range(5000):\n",
        "  w = w-l_r*grad_function(x,w,y)/x.shape[0]\n",
        "\n",
        "print(\"Coff : \",w)\n"
      ],
      "execution_count": null,
      "outputs": [
        {
          "output_type": "stream",
          "name": "stdout",
          "text": [
            "Coff :  [[ 7730.87205387]\n",
            " [ 8069.26430369]\n",
            " [11077.01540589]\n",
            " [18485.56912245]]\n"
          ]
        }
      ]
    },
    {
      "cell_type": "code",
      "metadata": {
        "colab": {
          "base_uri": "https://localhost:8080/"
        },
        "id": "zxnUacpByl64",
        "outputId": "dae36eb4-4849-4daf-e14f-a325ad9fdab8"
      },
      "source": [
        "# Mean Absolute % error is shown below - \n",
        "x_test_set = np.array(X_test_set)\n",
        "y_test_set = np.array(PriceTest)\n",
        "y_pred_set = np.dot(x_test_set,w)\n",
        "\n",
        "n = x_test_set.shape[0]\n",
        "m = 0\n",
        "\n",
        "for i in range(n):\n",
        "  m = m + abs(y_pred_set[i][0]-y_test_set[i])/y_test_set[i]\n",
        "m = m * (100/n)\n",
        "print(m)"
      ],
      "execution_count": null,
      "outputs": [
        {
          "output_type": "stream",
          "name": "stdout",
          "text": [
            "20.340465424974482\n"
          ]
        }
      ]
    },
    {
      "cell_type": "markdown",
      "metadata": {
        "id": "R2gCgxAEzjoA"
      },
      "source": [
        "##batch gradient descent with regularization "
      ]
    },
    {
      "cell_type": "code",
      "metadata": {
        "id": "PivOamgbzI6M"
      },
      "source": [
        "X_train_set = []\n",
        "for i in range(383):\n",
        "\tX_train_set.append([1, Scaled_FloorArea[i], Number_Of_Bedrooms[i], Number_Of_Bathrooms[i]])\n",
        " \n",
        "X_test_set = []\n",
        "n = len(FloorAreaTest)\n",
        "for i in range(383,383+n):\n",
        "  X_test_set.append([1,Scaled_FloorArea[i],Number_Of_Bedrooms[i],Number_Of_Bathrooms[i]])"
      ],
      "execution_count": null,
      "outputs": []
    },
    {
      "cell_type": "code",
      "metadata": {
        "colab": {
          "base_uri": "https://localhost:8080/"
        },
        "id": "VcvUQCin1AIK",
        "outputId": "fed94c30-56db-4d15-cf51-95bf66e2f7bf"
      },
      "source": [
        "x = np.array(X_train_set)\n",
        "y = np.array(PriceTrain)\n",
        "w = np.array(([0],[0],[0],[0]))\n",
        "y = y.reshape(len(y),1)\n",
        "\n",
        "def prod_function(w,x):\n",
        "    res=0\n",
        "    for i in range(w.shape[0]):\n",
        "        res = res + w[i][0]*x[i]\n",
        "    return res\n",
        "\n",
        "def grad_function(x,w,y):\n",
        "    res = np.zeros(w.shape[0])\n",
        "    for i in range(x.shape[0]):\n",
        "        res = (res + (prod_function(w,x[i])-y[i][0])*x[i])\n",
        "    res = res.reshape(w.shape[0],1)\n",
        "    return res\n",
        "\n",
        "lamda = -120\n",
        "l_r=0.001\n",
        "m = x.shape[0]\n",
        "for i in range(5000):\n",
        "  flag = 1-((l_r*lamda)/m)\n",
        "  w = flag * w - l_r * grad_function(x,w,y)/m\n",
        "\n",
        "print(\"Coff's : \",w)\n",
        "\n",
        "\n",
        "# Steps to calculate Mean absolute % error\n",
        "x_test_set = np.array(X_test_set)\n",
        "y_test_set = np.array(PriceTest)\n",
        "y_pred_set = np.dot(x_test_set,w)\n",
        "\n",
        "n = x_test_set.shape[0]\n",
        "mt = 0\n",
        "\n",
        "for i in range(n):\n",
        "  mt = mt + abs(y_pred_set[i][0]-y_test_set[i])/y_test_set[i]\n",
        "mt = mt * (100/n)\n",
        "print(\"Error calculated as - \",mt)\n"
      ],
      "execution_count": null,
      "outputs": [
        {
          "output_type": "stream",
          "name": "stdout",
          "text": [
            "Coff's :  [[11027.93238871]\n",
            " [19272.80715199]\n",
            " [ 5262.5362372 ]\n",
            " [31018.09747139]]\n",
            "Error calculated as -  18.845473135817112\n"
          ]
        }
      ]
    },
    {
      "cell_type": "markdown",
      "metadata": {
        "id": "8iKCxi2l3Atq"
      },
      "source": [
        "##stochastic gradient descent without regularization "
      ]
    },
    {
      "cell_type": "code",
      "metadata": {
        "id": "Y1Q-e3_J2NhL"
      },
      "source": [
        "X_train_set = []\n",
        "for i in range(383):\n",
        "\tX_train_set.append([1, Scaled_FloorArea[i], Number_Of_Bedrooms[i], Number_Of_Bathrooms[i]])\n",
        " \n",
        "X_test_set = []\n",
        "n = len(FloorAreaTest)\n",
        "for i in range(383,383+n):\n",
        "  X_test_set.append([1,Scaled_FloorArea[i],Number_Of_Bedrooms[i],Number_Of_Bathrooms[i]])"
      ],
      "execution_count": null,
      "outputs": []
    },
    {
      "cell_type": "code",
      "metadata": {
        "colab": {
          "base_uri": "https://localhost:8080/"
        },
        "id": "3vtKBRMU5DG_",
        "outputId": "d15675ff-22d3-4e4d-908f-431d7653b807"
      },
      "source": [
        "x = np.array(X_train_set)\n",
        "y = np.array(PriceTrain)\n",
        "w = np.array([0,0,0,0])\n",
        "y = y.reshape(len(y),1)\n",
        "\n",
        "print(\"Initial Coff's : \",w)\n",
        "\n",
        "def prod_function(w,x):\n",
        "    res = 0\n",
        "    for i in range(x.shape[0]):\n",
        "        res = res +w[i]*x[i]\n",
        "    return res\n",
        "\n",
        "\n",
        "l_r=0.0005\n",
        "for itr in range(10):\n",
        "  for i in range(x.shape[0]):\n",
        "    grad = (prod_function(w,x[i]) - y[i][0])*x[i]\n",
        "    w = w - l_r*grad\n",
        "\n",
        "print(\"Coeff's :\",w)\n",
        "\n",
        "\n",
        "# Steps to calculate mean absolute % error are as follows - \n",
        "w = w.reshape((4,1))\n",
        "x_test_set = np.array(X_test_set)\n",
        "y_test_set = np.array(PriceTest)\n",
        "y_pred_set = np.dot(x_test_set,w)\n",
        "\n",
        "n = x_test_set.shape[0]\n",
        "m = 0\n",
        "\n",
        "for i in range(n):\n",
        "  m = m + abs(y_pred_set[i][0] - y_test_set[i]) / y_test_set[i]\n",
        "m = m * (100/n)\n",
        "print(\"Mean absolute % error is - \",m)"
      ],
      "execution_count": null,
      "outputs": [
        {
          "output_type": "stream",
          "name": "stdout",
          "text": [
            "Initial Coff's :  [0 0 0 0]\n",
            "Coeff's : [ 7066.46237694  2950.99882673 15492.0281167  13567.48755441]\n",
            "Mean absolute % error is -  19.48284916668992\n"
          ]
        }
      ]
    },
    {
      "cell_type": "markdown",
      "metadata": {
        "id": "no_ACvW-6mTk"
      },
      "source": [
        "##stochastic gradient descent with regulariation"
      ]
    },
    {
      "cell_type": "code",
      "metadata": {
        "id": "JomnByR45LAj"
      },
      "source": [
        "X_train_set = []\n",
        "for i in range(383):\n",
        "\tX_train_set.append([1, Scaled_FloorArea[i], Number_Of_Bedrooms[i], Number_Of_Bathrooms[i]])\n",
        " \n",
        "XTest = []\n",
        "n = len(FloorAreaTest)\n",
        "for i in range(383,383+n):\n",
        "  X_test_set.append([1,Scaled_FloorArea[i],Number_Of_Bedrooms[i],Number_Of_Bathrooms[i]])"
      ],
      "execution_count": null,
      "outputs": []
    },
    {
      "cell_type": "code",
      "metadata": {
        "colab": {
          "base_uri": "https://localhost:8080/"
        },
        "id": "9AFJnOSl6rrE",
        "outputId": "ff2adc24-2585-44c2-fd84-f4257caf857f"
      },
      "source": [
        "x = np.array(X_train_set)\n",
        "y = np.array(PriceTrain)\n",
        "w = np.array([0,0,0,0])\n",
        "y = y.reshape(len(y),1)\n",
        "\n",
        "print(\"Initial coff's : \",w)\n",
        "\n",
        "def prod_function(w,x):\n",
        "    res = 0\n",
        "    for i in range(x.shape[0]):\n",
        "        res = res +w[i]*x[i]\n",
        "    return res\n",
        "\n",
        "\n",
        "l_r=0.0007\n",
        "lamda = 30\n",
        "for itr in range(10):\n",
        "  for i in range(x.shape[0]):\n",
        "    grad = (prod_function(w,x[i]) - y[i][0])*x[i]\n",
        "    flag = 1-((lamda*l_r)/x.shape[0])\n",
        "    w = flag*w - l_r * grad\n",
        "\n",
        "print(\"Coeff's:\",w)\n",
        "\n",
        "\n",
        "# Mean absolute % error\n",
        "w = w.reshape((4,1))\n",
        "x_test_test = np.array(X_test_set)\n",
        "y_test_test = np.array(PriceTest)\n",
        "y_pred_test = np.dot(x_test_set,w)\n",
        "\n",
        "n = x_test_set.shape[0]\n",
        "m = 0\n",
        "\n",
        "for i in range(n):\n",
        "  m = m + abs(y_pred_set[i][0] - y_test_set[i]) / y_test_set[i]\n",
        "m = m * (100/n)\n",
        "print(\"Mean absolute % error\",m)"
      ],
      "execution_count": null,
      "outputs": [
        {
          "output_type": "stream",
          "name": "stdout",
          "text": [
            "Initial coff's :  [0 0 0 0]\n",
            "Coeff's: [ 7561.78154518  3648.22493081 15578.54381992 14766.89345013]\n",
            "Mean absolute % error 19.48284916668992\n"
          ]
        }
      ]
    },
    {
      "cell_type": "markdown",
      "metadata": {
        "id": "HGj3qmgp8MHV"
      },
      "source": [
        "##Mini batch gradient descent without regularization "
      ]
    },
    {
      "cell_type": "code",
      "metadata": {
        "id": "KxbOBjjY7UXR"
      },
      "source": [
        "X_train_set = []\n",
        "for i in range(383):\n",
        "\tX_train_set.append([1, Scaled_FloorArea[i], Number_Of_Bedrooms[i], Number_Of_Bathrooms[i]])\n",
        " \n",
        "X_test_set = []\n",
        "n = len(FloorAreaTest)\n",
        "for i in range(383,383+n):\n",
        "  X_test_set.append([1,Scaled_FloorArea[i],Number_Of_Bedrooms[i],Number_Of_Bathrooms[i]])"
      ],
      "execution_count": null,
      "outputs": []
    },
    {
      "cell_type": "code",
      "metadata": {
        "colab": {
          "base_uri": "https://localhost:8080/"
        },
        "id": "8W-NZxfG9fw0",
        "outputId": "b0e0d278-ae57-4913-df60-f03defa96c64"
      },
      "source": [
        "# Batch size = b_s\n",
        "b_s = 20;\n",
        "\n",
        "# Learning rate = l_s\n",
        "l_r = 0.002\n",
        "\n",
        "x = np.array(X_train_set)\n",
        "y = np.array(PriceTrain)\n",
        "w = np.array([0,0,0,0])\n",
        "y = y.reshape(len(y),1)\n",
        "\n",
        "def prod_function(w,x):\n",
        "    res = 0\n",
        "    for i in range(x.shape[0]):\n",
        "        res = res + w[i]*x[i]\n",
        "    return res\n",
        "\n",
        "def grad_function(x,w,y,st,bs):\n",
        "    res = np.zeros(w.shape[0])\n",
        "    for i in range(st,st+bs):\n",
        "        if(i>=x.shape[0]):\n",
        "          break\n",
        "        res = (res + (prod_function(w,x[i])-y[i][0])*x[i])\n",
        "    return res\n",
        "\n",
        "for itr in range(50):\n",
        "  for i in range(b_s):\n",
        "    w = w - (l_r*grad_function(x,w,y,b_s*i,b_s))/b_s\n",
        "print(\"Coeff's : \",w)\n",
        "\n",
        "\n",
        "\n",
        "# Steps to find Mean absolute % error\n",
        "w = w.reshape((4,1))\n",
        "x_test_set = np.array(X_test_set)\n",
        "y_test_set = np.array(PriceTest)\n",
        "y_pred_set = np.dot(x_test_set,w)\n",
        "\n",
        "n = x_test_set.shape[0]\n",
        "m = 0\n",
        "\n",
        "for i in range(n):\n",
        "  m = m + abs(y_pred_set[i][0] - y_test_set[i])/y_test_set[i]\n",
        "m = m * 100/n\n",
        "print(\"Mean absolute % error : \",m)"
      ],
      "execution_count": null,
      "outputs": [
        {
          "output_type": "stream",
          "name": "stdout",
          "text": [
            "Coeff's :  [ 6468.63363142  3178.38570759 14116.98255236 13180.97007062]\n",
            "Mean absolute % error :  20.73412416483853\n"
          ]
        }
      ]
    },
    {
      "cell_type": "markdown",
      "metadata": {
        "id": "48P0wWcj9zJ8"
      },
      "source": [
        "##mini batch gradient descent with regularization"
      ]
    },
    {
      "cell_type": "code",
      "metadata": {
        "id": "-4At1lz99mjF"
      },
      "source": [
        "X_train_set = []\n",
        "for i in range(383):\n",
        "\tX_train_set.append([1, Scaled_FloorArea[i], Number_Of_Bedrooms[i], Number_Of_Bathrooms[i]])\n",
        " \n",
        "X_test_set = []\n",
        "n = len(FloorAreaTest)\n",
        "for i in range(383,383+n):\n",
        "  X_test_set.append([1,Scaled_FloorArea[i],Number_Of_Bedrooms[i],Number_Of_Bathrooms[i]])"
      ],
      "execution_count": null,
      "outputs": []
    },
    {
      "cell_type": "code",
      "metadata": {
        "colab": {
          "base_uri": "https://localhost:8080/"
        },
        "id": "4TqMtY3d94kO",
        "outputId": "59017f0f-3f34-4ca0-eff9-6037c365ee49"
      },
      "source": [
        "b_s = 20;\n",
        "l_r = 0.002\n",
        "lamda = -20\n",
        "\n",
        "x = np.array(X_train_set)\n",
        "y = np.array(PriceTrain)\n",
        "w = np.array([0,0,0,0])\n",
        "y = y.reshape(len(y),1)\n",
        "\n",
        "def prod_function(w,x):\n",
        "    res = 0\n",
        "    for i in range(x.shape[0]):\n",
        "        res = res +w[i]*x[i]\n",
        "    return res\n",
        "\n",
        "def grad_function(x,w,y,st,b_s):\n",
        "    res = np.zeros(w.shape[0])\n",
        "    for i in range(st,st+b_s):\n",
        "        if(i>=x.shape[0]):\n",
        "          break\n",
        "        res = (res+(prod_function(w,x[i])-y[i][0])*x[i])\n",
        "    return res\n",
        "\n",
        "for itr in range(50):\n",
        "  for i in range(b_s):\n",
        "    flag = 1-((lamda*l_r)/b_s)\n",
        "    w = flag*w - (l_r*grad_function(x,w,y,b_s*i,b_s))/b_s\n",
        "print(\"Coeff's : \" , w)\n",
        "\n",
        "\n",
        "\n",
        "# Steps to find Mean absolute % error\n",
        "\n",
        "w = w.reshape((4,1))\n",
        "x_test_set = np.array(X_test_set)\n",
        "y_test_set = np.array(PriceTest)\n",
        "y_pred_set = np.dot(x_test_set,w)\n",
        "\n",
        "n = x_test_set.shape[0]\n",
        "m = 0\n",
        "\n",
        "for i in range(n):\n",
        "  m = m + abs(y_pred_set[i][0] - y_test_set[i]) / y_test_set[i]\n",
        "m = m * 100/n\n",
        "print(\"Mean absolute % error : \",m)"
      ],
      "execution_count": null,
      "outputs": [
        {
          "output_type": "stream",
          "name": "stdout",
          "text": [
            "Coeff's :  [ 9280.88414526 10001.13873579 10055.23366084 25309.01693085]\n",
            "Mean absolute % error :  17.971898815464968\n"
          ]
        }
      ]
    }
  ]
}